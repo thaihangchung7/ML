{
 "cells": [
  {
   "cell_type": "code",
   "execution_count": 1,
   "metadata": {},
   "outputs": [],
   "source": [
    "from __future__ import absolute_import, division, print_function, unicode_literals\n",
    "\n",
    "import tensorflow as tf\n",
    "import pandas as pd"
   ]
  },
  {
   "cell_type": "code",
   "execution_count": 2,
   "metadata": {},
   "outputs": [],
   "source": [
    "#importing data\n",
    "train_path = tf.keras.utils.get_file(\n",
    "    \"iris_training.csv\", \"https://storage.googleapis.com/download.tensorflow.org/data/iris_training.csv\")\n",
    "test_path = tf.keras.utils.get_file(\n",
    "    \"iris_test.csv\", \"https://storage.googleapis.com/download.tensorflow.org/data/iris_test.csv\")"
   ]
  },
  {
   "cell_type": "code",
   "execution_count": 3,
   "metadata": {},
   "outputs": [],
   "source": [
    "COLUMN_NAMES = ['SepalLength', 'SepalWidth', 'PetalLength', 'PetalWidth', 'Species']\n",
    "SPECIES = ['Setosa', 'Versicolor', 'Virginica']\n",
    "\n",
    "train = pd.read_csv(train_path, names = COLUMN_NAMES, header = 0)\n",
    "test = pd.read_csv(test_path, names = COLUMN_NAMES, header = 0)"
   ]
  },
  {
   "cell_type": "code",
   "execution_count": 4,
   "metadata": {},
   "outputs": [
    {
     "data": {
      "text/html": [
       "<div>\n",
       "<style scoped>\n",
       "    .dataframe tbody tr th:only-of-type {\n",
       "        vertical-align: middle;\n",
       "    }\n",
       "\n",
       "    .dataframe tbody tr th {\n",
       "        vertical-align: top;\n",
       "    }\n",
       "\n",
       "    .dataframe thead th {\n",
       "        text-align: right;\n",
       "    }\n",
       "</style>\n",
       "<table border=\"1\" class=\"dataframe\">\n",
       "  <thead>\n",
       "    <tr style=\"text-align: right;\">\n",
       "      <th></th>\n",
       "      <th>SepalLength</th>\n",
       "      <th>SepalWidth</th>\n",
       "      <th>PetalLength</th>\n",
       "      <th>PetalWidth</th>\n",
       "      <th>Species</th>\n",
       "    </tr>\n",
       "  </thead>\n",
       "  <tbody>\n",
       "    <tr>\n",
       "      <th>0</th>\n",
       "      <td>6.4</td>\n",
       "      <td>2.8</td>\n",
       "      <td>5.6</td>\n",
       "      <td>2.2</td>\n",
       "      <td>2</td>\n",
       "    </tr>\n",
       "    <tr>\n",
       "      <th>1</th>\n",
       "      <td>5.0</td>\n",
       "      <td>2.3</td>\n",
       "      <td>3.3</td>\n",
       "      <td>1.0</td>\n",
       "      <td>1</td>\n",
       "    </tr>\n",
       "    <tr>\n",
       "      <th>2</th>\n",
       "      <td>4.9</td>\n",
       "      <td>2.5</td>\n",
       "      <td>4.5</td>\n",
       "      <td>1.7</td>\n",
       "      <td>2</td>\n",
       "    </tr>\n",
       "    <tr>\n",
       "      <th>3</th>\n",
       "      <td>4.9</td>\n",
       "      <td>3.1</td>\n",
       "      <td>1.5</td>\n",
       "      <td>0.1</td>\n",
       "      <td>0</td>\n",
       "    </tr>\n",
       "    <tr>\n",
       "      <th>4</th>\n",
       "      <td>5.7</td>\n",
       "      <td>3.8</td>\n",
       "      <td>1.7</td>\n",
       "      <td>0.3</td>\n",
       "      <td>0</td>\n",
       "    </tr>\n",
       "  </tbody>\n",
       "</table>\n",
       "</div>"
      ],
      "text/plain": [
       "   SepalLength  SepalWidth  PetalLength  PetalWidth  Species\n",
       "0          6.4         2.8          5.6         2.2        2\n",
       "1          5.0         2.3          3.3         1.0        1\n",
       "2          4.9         2.5          4.5         1.7        2\n",
       "3          4.9         3.1          1.5         0.1        0\n",
       "4          5.7         3.8          1.7         0.3        0"
      ]
     },
     "execution_count": 4,
     "metadata": {},
     "output_type": "execute_result"
    }
   ],
   "source": [
    "train.head()"
   ]
  },
  {
   "cell_type": "code",
   "execution_count": 5,
   "metadata": {},
   "outputs": [],
   "source": [
    "train_y = train.pop('Species')\n",
    "test_y = test.pop('Species')"
   ]
  },
  {
   "cell_type": "code",
   "execution_count": 7,
   "metadata": {},
   "outputs": [
    {
     "data": {
      "text/plain": [
       "(120, 4)"
      ]
     },
     "execution_count": 7,
     "metadata": {},
     "output_type": "execute_result"
    }
   ],
   "source": [
    "train.shape"
   ]
  },
  {
   "cell_type": "code",
   "execution_count": 17,
   "metadata": {},
   "outputs": [],
   "source": [
    "#input function\n",
    "def input_fn(features,labels,training = True, batch_size=256):\n",
    "    dataset = tf.data.Dataset.from_tensor_slices((dict(features),labels))\n",
    "    \n",
    "    #shuffle while training\n",
    "    if training:\n",
    "        dataset = dataset.shuffle(1000).repeat()\n",
    "        \n",
    "    return dataset.batch(batch_size)"
   ]
  },
  {
   "cell_type": "code",
   "execution_count": 10,
   "metadata": {},
   "outputs": [
    {
     "name": "stdout",
     "output_type": "stream",
     "text": [
      "[NumericColumn(key='SepalLength', shape=(1,), default_value=None, dtype=tf.float32, normalizer_fn=None), NumericColumn(key='SepalWidth', shape=(1,), default_value=None, dtype=tf.float32, normalizer_fn=None), NumericColumn(key='PetalLength', shape=(1,), default_value=None, dtype=tf.float32, normalizer_fn=None), NumericColumn(key='PetalWidth', shape=(1,), default_value=None, dtype=tf.float32, normalizer_fn=None)]\n"
     ]
    }
   ],
   "source": [
    "#feature columns\n",
    "my_feature_columns = []\n",
    "for key in train.keys():\n",
    "    my_feature_columns.append(tf.feature_column.numeric_column(key=key))\n",
    "print(my_feature_columns)"
   ]
  },
  {
   "cell_type": "code",
   "execution_count": 11,
   "metadata": {},
   "outputs": [
    {
     "name": "stdout",
     "output_type": "stream",
     "text": [
      "INFO:tensorflow:Using default config.\n",
      "WARNING:tensorflow:Using temporary folder as model directory: C:\\Users\\thaih\\AppData\\Local\\Temp\\tmpeay9j8st\n",
      "INFO:tensorflow:Using config: {'_model_dir': 'C:\\\\Users\\\\thaih\\\\AppData\\\\Local\\\\Temp\\\\tmpeay9j8st', '_tf_random_seed': None, '_save_summary_steps': 100, '_save_checkpoints_steps': None, '_save_checkpoints_secs': 600, '_session_config': allow_soft_placement: true\n",
      "graph_options {\n",
      "  rewrite_options {\n",
      "    meta_optimizer_iterations: ONE\n",
      "  }\n",
      "}\n",
      ", '_keep_checkpoint_max': 5, '_keep_checkpoint_every_n_hours': 10000, '_log_step_count_steps': 100, '_train_distribute': None, '_device_fn': None, '_protocol': None, '_eval_distribute': None, '_experimental_distribute': None, '_experimental_max_worker_delay_secs': None, '_session_creation_timeout_secs': 7200, '_checkpoint_save_graph_def': True, '_service': None, '_cluster_spec': ClusterSpec({}), '_task_type': 'worker', '_task_id': 0, '_global_id_in_cluster': 0, '_master': '', '_evaluation_master': '', '_is_chief': True, '_num_ps_replicas': 0, '_num_worker_replicas': 1}\n"
     ]
    }
   ],
   "source": [
    "#DNN with 2 hidden layers, 30 and 10 hidden nodes each\n",
    "classifier = tf.estimator.DNNClassifier(feature_columns=my_feature_columns,hidden_units=[30,10],n_classes=3)\n",
    "#n_classes := model chooses between 3 classes\n"
   ]
  },
  {
   "cell_type": "code",
   "execution_count": 18,
   "metadata": {},
   "outputs": [
    {
     "name": "stdout",
     "output_type": "stream",
     "text": [
      "INFO:tensorflow:Calling model_fn.\n",
      "WARNING:tensorflow:From C:\\Users\\thaih\\anaconda3\\lib\\site-packages\\tensorflow\\python\\keras\\optimizer_v2\\adagrad.py:82: calling Constant.__init__ (from tensorflow.python.ops.init_ops) with dtype is deprecated and will be removed in a future version.\n",
      "Instructions for updating:\n",
      "Call initializer instance with the dtype argument instead of passing it to the constructor\n",
      "INFO:tensorflow:Done calling model_fn.\n",
      "INFO:tensorflow:Create CheckpointSaverHook.\n",
      "INFO:tensorflow:Graph was finalized.\n",
      "INFO:tensorflow:Running local_init_op.\n",
      "INFO:tensorflow:Done running local_init_op.\n",
      "INFO:tensorflow:Calling checkpoint listeners before saving checkpoint 0...\n",
      "INFO:tensorflow:Saving checkpoints for 0 into C:\\Users\\thaih\\AppData\\Local\\Temp\\tmpeay9j8st\\model.ckpt.\n",
      "INFO:tensorflow:Calling checkpoint listeners after saving checkpoint 0...\n",
      "INFO:tensorflow:loss = 1.1157413, step = 0\n",
      "INFO:tensorflow:global_step/sec: 568.118\n",
      "INFO:tensorflow:loss = 1.0094608, step = 100 (0.176 sec)\n",
      "INFO:tensorflow:global_step/sec: 751.794\n",
      "INFO:tensorflow:loss = 0.95374507, step = 200 (0.134 sec)\n",
      "INFO:tensorflow:global_step/sec: 768.642\n",
      "INFO:tensorflow:loss = 0.9116611, step = 300 (0.130 sec)\n",
      "INFO:tensorflow:global_step/sec: 775.197\n",
      "INFO:tensorflow:loss = 0.88619876, step = 400 (0.129 sec)\n",
      "INFO:tensorflow:global_step/sec: 769.227\n",
      "INFO:tensorflow:loss = 0.8572573, step = 500 (0.130 sec)\n",
      "INFO:tensorflow:global_step/sec: 751.324\n",
      "INFO:tensorflow:loss = 0.83137333, step = 600 (0.133 sec)\n",
      "INFO:tensorflow:global_step/sec: 790.374\n",
      "INFO:tensorflow:loss = 0.81358254, step = 700 (0.126 sec)\n",
      "INFO:tensorflow:global_step/sec: 756.006\n",
      "INFO:tensorflow:loss = 0.80101424, step = 800 (0.133 sec)\n",
      "INFO:tensorflow:global_step/sec: 775.184\n",
      "INFO:tensorflow:loss = 0.77419156, step = 900 (0.128 sec)\n",
      "INFO:tensorflow:global_step/sec: 766.286\n",
      "INFO:tensorflow:loss = 0.76172924, step = 1000 (0.131 sec)\n",
      "INFO:tensorflow:global_step/sec: 768.882\n",
      "INFO:tensorflow:loss = 0.74483496, step = 1100 (0.130 sec)\n",
      "INFO:tensorflow:global_step/sec: 760.462\n",
      "INFO:tensorflow:loss = 0.72695553, step = 1200 (0.133 sec)\n",
      "INFO:tensorflow:global_step/sec: 680.267\n",
      "INFO:tensorflow:loss = 0.72441614, step = 1300 (0.145 sec)\n",
      "INFO:tensorflow:global_step/sec: 772.194\n",
      "INFO:tensorflow:loss = 0.7154451, step = 1400 (0.130 sec)\n",
      "INFO:tensorflow:global_step/sec: 729.932\n",
      "INFO:tensorflow:loss = 0.6943997, step = 1500 (0.136 sec)\n",
      "INFO:tensorflow:global_step/sec: 738.004\n",
      "INFO:tensorflow:loss = 0.6915585, step = 1600 (0.136 sec)\n",
      "INFO:tensorflow:global_step/sec: 743.489\n",
      "INFO:tensorflow:loss = 0.66520584, step = 1700 (0.134 sec)\n",
      "INFO:tensorflow:global_step/sec: 778.213\n",
      "INFO:tensorflow:loss = 0.6612109, step = 1800 (0.129 sec)\n",
      "INFO:tensorflow:global_step/sec: 757.587\n",
      "INFO:tensorflow:loss = 0.6528666, step = 1900 (0.133 sec)\n",
      "INFO:tensorflow:global_step/sec: 790.503\n",
      "INFO:tensorflow:loss = 0.6311017, step = 2000 (0.126 sec)\n",
      "INFO:tensorflow:global_step/sec: 732.605\n",
      "INFO:tensorflow:loss = 0.63141847, step = 2100 (0.137 sec)\n",
      "INFO:tensorflow:global_step/sec: 668.898\n",
      "INFO:tensorflow:loss = 0.6156665, step = 2200 (0.150 sec)\n",
      "INFO:tensorflow:global_step/sec: 740.576\n",
      "INFO:tensorflow:loss = 0.6170328, step = 2300 (0.135 sec)\n",
      "INFO:tensorflow:global_step/sec: 729.941\n",
      "INFO:tensorflow:loss = 0.60963535, step = 2400 (0.137 sec)\n",
      "INFO:tensorflow:global_step/sec: 711.882\n",
      "INFO:tensorflow:loss = 0.60012764, step = 2500 (0.140 sec)\n",
      "INFO:tensorflow:global_step/sec: 749.055\n",
      "INFO:tensorflow:loss = 0.58997154, step = 2600 (0.134 sec)\n",
      "INFO:tensorflow:global_step/sec: 751.89\n",
      "INFO:tensorflow:loss = 0.58310807, step = 2700 (0.133 sec)\n",
      "INFO:tensorflow:global_step/sec: 776.914\n",
      "INFO:tensorflow:loss = 0.5763891, step = 2800 (0.128 sec)\n",
      "INFO:tensorflow:global_step/sec: 778.041\n",
      "INFO:tensorflow:loss = 0.570266, step = 2900 (0.129 sec)\n",
      "INFO:tensorflow:global_step/sec: 685.061\n",
      "INFO:tensorflow:loss = 0.5545955, step = 3000 (0.147 sec)\n",
      "INFO:tensorflow:global_step/sec: 694.44\n",
      "INFO:tensorflow:loss = 0.53977114, step = 3100 (0.144 sec)\n",
      "INFO:tensorflow:global_step/sec: 716.855\n",
      "INFO:tensorflow:loss = 0.54827356, step = 3200 (0.139 sec)\n",
      "INFO:tensorflow:global_step/sec: 724.631\n",
      "INFO:tensorflow:loss = 0.5422982, step = 3300 (0.137 sec)\n",
      "INFO:tensorflow:global_step/sec: 763.202\n",
      "INFO:tensorflow:loss = 0.5486404, step = 3400 (0.131 sec)\n",
      "INFO:tensorflow:global_step/sec: 785.569\n",
      "INFO:tensorflow:loss = 0.5245274, step = 3500 (0.128 sec)\n",
      "INFO:tensorflow:global_step/sec: 769.181\n",
      "INFO:tensorflow:loss = 0.5232245, step = 3600 (0.131 sec)\n",
      "INFO:tensorflow:global_step/sec: 765.996\n",
      "INFO:tensorflow:loss = 0.5151955, step = 3700 (0.130 sec)\n",
      "INFO:tensorflow:global_step/sec: 769.233\n",
      "INFO:tensorflow:loss = 0.5123027, step = 3800 (0.130 sec)\n",
      "INFO:tensorflow:global_step/sec: 784.752\n",
      "INFO:tensorflow:loss = 0.5078865, step = 3900 (0.127 sec)\n",
      "INFO:tensorflow:global_step/sec: 787.524\n",
      "INFO:tensorflow:loss = 0.503965, step = 4000 (0.126 sec)\n",
      "INFO:tensorflow:global_step/sec: 787.061\n",
      "INFO:tensorflow:loss = 0.49708062, step = 4100 (0.127 sec)\n",
      "INFO:tensorflow:global_step/sec: 711.76\n",
      "INFO:tensorflow:loss = 0.48637044, step = 4200 (0.142 sec)\n",
      "INFO:tensorflow:global_step/sec: 726.231\n",
      "INFO:tensorflow:loss = 0.48767775, step = 4300 (0.137 sec)\n",
      "INFO:tensorflow:global_step/sec: 754.726\n",
      "INFO:tensorflow:loss = 0.47761214, step = 4400 (0.133 sec)\n",
      "INFO:tensorflow:global_step/sec: 784.305\n",
      "INFO:tensorflow:loss = 0.4806218, step = 4500 (0.128 sec)\n",
      "INFO:tensorflow:global_step/sec: 778.025\n",
      "INFO:tensorflow:loss = 0.46062452, step = 4600 (0.128 sec)\n",
      "INFO:tensorflow:global_step/sec: 768.721\n",
      "INFO:tensorflow:loss = 0.46683443, step = 4700 (0.131 sec)\n",
      "INFO:tensorflow:global_step/sec: 783.585\n",
      "INFO:tensorflow:loss = 0.47082517, step = 4800 (0.127 sec)\n",
      "INFO:tensorflow:global_step/sec: 785.162\n",
      "INFO:tensorflow:loss = 0.45717537, step = 4900 (0.128 sec)\n",
      "INFO:tensorflow:Calling checkpoint listeners before saving checkpoint 5000...\n",
      "INFO:tensorflow:Saving checkpoints for 5000 into C:\\Users\\thaih\\AppData\\Local\\Temp\\tmpeay9j8st\\model.ckpt.\n",
      "INFO:tensorflow:Calling checkpoint listeners after saving checkpoint 5000...\n",
      "INFO:tensorflow:Loss for final step: 0.45700842.\n"
     ]
    },
    {
     "data": {
      "text/plain": [
       "<tensorflow_estimator.python.estimator.canned.dnn.DNNClassifierV2 at 0x236d63ffbb0>"
      ]
     },
     "execution_count": 18,
     "metadata": {},
     "output_type": "execute_result"
    }
   ],
   "source": [
    "classifier.train(input_fn=lambda: input_fn(train,train_y,training=True),steps=5000) \n",
    "#lambda function to avoid creating inner function"
   ]
  },
  {
   "cell_type": "code",
   "execution_count": 20,
   "metadata": {},
   "outputs": [
    {
     "name": "stdout",
     "output_type": "stream",
     "text": [
      "INFO:tensorflow:Calling model_fn.\n",
      "INFO:tensorflow:Done calling model_fn.\n",
      "INFO:tensorflow:Starting evaluation at 2021-03-24T00:15:33Z\n",
      "INFO:tensorflow:Graph was finalized.\n",
      "INFO:tensorflow:Restoring parameters from C:\\Users\\thaih\\AppData\\Local\\Temp\\tmpeay9j8st\\model.ckpt-5000\n",
      "INFO:tensorflow:Running local_init_op.\n",
      "INFO:tensorflow:Done running local_init_op.\n",
      "INFO:tensorflow:Inference Time : 0.22453s\n",
      "INFO:tensorflow:Finished evaluation at 2021-03-24-00:15:33\n",
      "INFO:tensorflow:Saving dict for global step 5000: accuracy = 0.73333335, average_loss = 0.54319686, global_step = 5000, loss = 0.54319686\n",
      "INFO:tensorflow:Saving 'checkpoint_path' summary for global step 5000: C:\\Users\\thaih\\AppData\\Local\\Temp\\tmpeay9j8st\\model.ckpt-5000\n",
      "\n",
      "Test set accuracy: 0.733\n",
      "\n"
     ]
    }
   ],
   "source": [
    "eval_result = classifier.evaluate(input_fn=lambda: input_fn(test,test_y, training = False))\n",
    "\n",
    "print('\\nTest set accuracy: {accuracy:0.3f}\\n'.format(**eval_result))"
   ]
  },
  {
   "cell_type": "code",
   "execution_count": null,
   "metadata": {},
   "outputs": [],
   "source": [
    "def input_fn(features, batch_size=-256)\n",
    "    return tf.data.Dataset.from_tensor_slices(dict(features)).batch(batch_size)\n",
    "\n",
    "features = ['SepalLength','SepalWidth','PetalLength','PetalWidth']\n",
    "predict = {}\n",
    "\n",
    "print(\"P\")"
   ]
  },
  {
   "cell_type": "code",
   "execution_count": 21,
   "metadata": {},
   "outputs": [],
   "source": [
    "expected = ['Setosa','Versicolor','Virginica']\n",
    "predict_x = {\n",
    "    'SepalLength': [5.1, 5.9, 6.9],\n",
    "    'SepalWidth': [3.3, 3.0, 3.1],\n",
    "    'PetalLength': [1.7, 4.2, 5.4],\n",
    "    'PetalWidth': [0.5, 1.5, 2.1],\n",
    "}"
   ]
  }
 ],
 "metadata": {
  "kernelspec": {
   "display_name": "Python 3",
   "language": "python",
   "name": "python3"
  },
  "language_info": {
   "codemirror_mode": {
    "name": "ipython",
    "version": 3
   },
   "file_extension": ".py",
   "mimetype": "text/x-python",
   "name": "python",
   "nbconvert_exporter": "python",
   "pygments_lexer": "ipython3",
   "version": "3.8.3"
  }
 },
 "nbformat": 4,
 "nbformat_minor": 4
}
